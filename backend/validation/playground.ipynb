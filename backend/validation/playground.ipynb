{
 "cells": [
  {
   "cell_type": "code",
   "execution_count": null,
   "id": "7d9cf662",
   "metadata": {},
   "outputs": [
    {
     "name": "stdout",
     "output_type": "stream",
     "text": [
      "{'key': 'pyright_succeeded', 'score': False, 'comment': '[{\"severity\": \"error\", \"message\": \"Cannot access attribute \\\\\"compilee\\\\\" for class \\\\\"StateGraph[State, None, State, State]\\\\\"\\\\n\\\\u00a0\\\\u00a0Attribute \\\\\"compilee\\\\\" is unknown\", \"range\": {\"start\": {\"line\": 28, \"character\": 16}, \"end\": {\"line\": 28, \"character\": 24}}, \"rule\": \"reportAttributeAccessIssue\"}]', 'metadata': None}\n"
     ]
    }
   ],
   "source": [
    "from openevals.code.e2b.pyright import create_e2b_pyright_evaluator\n",
    "from openevals.code.e2b.execution import create_e2b_execution_evaluator\n",
    "from e2b_code_interpreter import Sandbox\n",
    "from dotenv import load_dotenv\n",
    "\n",
    "load_dotenv()\n",
    "sandbox = Sandbox('OpenEvalsPython')\n",
    "\n",
    "evaluator = create_e2b_pyright_evaluator(\n",
    "    sandbox=sandbox,\n",
    ")\n",
    "\n",
    "CODE = \"\"\"\n",
    "from typing import Annotated, TypedDict\n",
    "from dotenv import load_dotenv\n",
    "from langgraph.graph import StateGraph, START, END\n",
    "from langgraph.graph.message import add_messages\n",
    "from langchain_core.messages import HumanMessage\n",
    "from langchain_openai import ChatOpenAI\n",
    "\n",
    "load_dotenv()\n",
    "model = ChatOpenAI ()\n",
    "class State(TypedDict):\n",
    "    messages: Annotated[list, add_messages]\n",
    "\n",
    "def chat_node(state: State): \n",
    "    messages = state['messages']\n",
    "\n",
    "    response = model.invoke(messages).content \n",
    "\n",
    "    return {\n",
    "        'messages': [response]\n",
    "    }\n",
    "\n",
    "\n",
    "builder = StateGraph(State)\n",
    "builder.add_node('chat', chat_node)\n",
    "\n",
    "builder.add_edge(START, 'chat')\n",
    "builder.add_edge('chat', END)\n",
    "graph = builder.compilee()\n",
    "\n",
    "result = graph.invoke({'messages': [HumanMessage('How are you?')]})\n",
    "\n",
    "print(result)\n",
    "\n",
    "\"\"\"\n",
    "\n",
    "eval_result = evaluator(outputs=CODE)\n",
    "\n",
    "print(eval_result)"
   ]
  },
  {
   "cell_type": "code",
   "execution_count": 7,
   "id": "c4693b8a",
   "metadata": {},
   "outputs": [
    {
     "name": "stdout",
     "output_type": "stream",
     "text": [
      "key\n",
      "pyright_succeeded\n",
      "\n",
      "score\n",
      "False\n",
      "\n",
      "comment\n",
      "[{\"severity\": \"error\", \"message\": \"Cannot access attribute \\\"invoke\\\" for class \\\"StateGraph[State, None, State, State]\\\"\\n\\u00a0\\u00a0Attribute \\\"invoke\\\" is unknown\", \"range\": {\"start\": {\"line\": 16, \"character\": 8}, \"end\": {\"line\": 16, \"character\": 14}}, \"rule\": \"reportAttributeAccessIssue\"}]\n",
      "\n",
      "metadata\n",
      "None\n",
      "\n"
     ]
    }
   ],
   "source": [
    "for k,v in eval_result.items(): \n",
    "  print(k)\n",
    "  print(v)\n",
    "  print()"
   ]
  },
  {
   "cell_type": "code",
   "execution_count": 24,
   "id": "0824ba05",
   "metadata": {},
   "outputs": [
    {
     "data": {
      "text/plain": [
       "['[{\"severity\": \"error\"',\n",
       " 'message\": \"Cannot access attribute \\\\\"compilee\\\\\" for class \\\\\"StateGraph[State, None, State, State]\\\\\"\\\\n\\\\u00a0\\\\u00a0Attribute \\\\\"compilee\\\\\" is unknown\"',\n",
       " 'range\": {\"start\": {\"line\": 28',\n",
       " 'character\": 16}',\n",
       " 'end\": {\"line\": 28',\n",
       " 'character\": 24}}',\n",
       " 'rule\": \"reportAttributeAccessIssue\"}]']"
      ]
     },
     "execution_count": 24,
     "metadata": {},
     "output_type": "execute_result"
    }
   ],
   "source": [
    "eval_result['comment'].split(', \"')"
   ]
  },
  {
   "cell_type": "code",
   "execution_count": 12,
   "id": "88fddd93",
   "metadata": {},
   "outputs": [
    {
     "name": "stdout",
     "output_type": "stream",
     "text": [
      "(\"Module(body=[ImportFrom(module='typing', names=[alias(name='Annotated'), \"\n",
      " \"alias(name='TypedDict')], level=0), ImportFrom(module='dotenv', \"\n",
      " \"names=[alias(name='load_dotenv')], level=0), \"\n",
      " \"ImportFrom(module='langgraph.graph', names=[alias(name='StateGraph'), \"\n",
      " \"alias(name='START'), alias(name='END')], level=0), \"\n",
      " \"ImportFrom(module='langgraph.graph.message', \"\n",
      " \"names=[alias(name='add_messages')], level=0), \"\n",
      " \"ImportFrom(module='langchain_core.messages', \"\n",
      " \"names=[alias(name='HumanMessage')], level=0), \"\n",
      " \"ImportFrom(module='langchain_openai', names=[alias(name='ChatOpenAI')], \"\n",
      " \"level=0), Expr(value=Call(func=Name(id='load_dotenv', ctx=Load()), args=[], \"\n",
      " \"keywords=[])), Assign(targets=[Name(id='model', ctx=Store())], \"\n",
      " \"value=Call(func=Name(id='ChatOpenAI', ctx=Load()), args=[], keywords=[])), \"\n",
      " \"ClassDef(name='State', bases=[Name(id='TypedDict', ctx=Load())], \"\n",
      " \"keywords=[], body=[AnnAssign(target=Name(id='messages', ctx=Store()), \"\n",
      " \"annotation=Subscript(value=Name(id='Annotated', ctx=Load()), \"\n",
      " \"slice=Tuple(elts=[Name(id='list', ctx=Load()), Name(id='add_messages', \"\n",
      " 'ctx=Load())], ctx=Load()), ctx=Load()), simple=1)], decorator_list=[], '\n",
      " \"type_params=[]), FunctionDef(name='chat_node', \"\n",
      " \"args=arguments(posonlyargs=[], args=[arg(arg='state', \"\n",
      " \"annotation=Name(id='State', ctx=Load()))], kwonlyargs=[], kw_defaults=[], \"\n",
      " \"defaults=[]), body=[Assign(targets=[Name(id='messages', ctx=Store())], \"\n",
      " \"value=Subscript(value=Name(id='state', ctx=Load()), \"\n",
      " \"slice=Constant(value='messages'), ctx=Load())), \"\n",
      " \"Assign(targets=[Name(id='response', ctx=Store())], \"\n",
      " \"value=Attribute(value=Call(func=Attribute(value=Name(id='model', \"\n",
      " \"ctx=Load()), attr='invoke', ctx=Load()), args=[Name(id='messages', \"\n",
      " \"ctx=Load())], keywords=[]), attr='content', ctx=Load())), \"\n",
      " \"Return(value=Dict(keys=[Constant(value='messages')], \"\n",
      " \"values=[List(elts=[Name(id='response', ctx=Load())], ctx=Load())]))], \"\n",
      " \"decorator_list=[], type_params=[]), Assign(targets=[Name(id='builder', \"\n",
      " \"ctx=Store())], value=Call(func=Name(id='StateGraph', ctx=Load()), \"\n",
      " \"args=[Name(id='State', ctx=Load())], keywords=[])), \"\n",
      " \"Expr(value=Call(func=Attribute(value=Name(id='builder', ctx=Load()), \"\n",
      " \"attr='add_node', ctx=Load()), args=[Constant(value='chat'), \"\n",
      " \"Name(id='chat_node', ctx=Load())], keywords=[])), \"\n",
      " \"Expr(value=Call(func=Attribute(value=Name(id='builder', ctx=Load()), \"\n",
      " \"attr='add_edge', ctx=Load()), args=[Name(id='START', ctx=Load()), \"\n",
      " \"Constant(value='chat')], keywords=[])), \"\n",
      " \"Expr(value=Call(func=Attribute(value=Name(id='builder', ctx=Load()), \"\n",
      " \"attr='add_edge', ctx=Load()), args=[Constant(value='chat'), Name(id='END', \"\n",
      " \"ctx=Load())], keywords=[])), Assign(targets=[Name(id='graph', ctx=Store())], \"\n",
      " \"value=Call(func=Attribute(value=Name(id='builder', ctx=Load()), \"\n",
      " \"attr='compile', ctx=Load()), args=[], keywords=[])), \"\n",
      " \"Assign(targets=[Name(id='result', ctx=Store())], \"\n",
      " \"value=Call(func=Attribute(value=Name(id='graph', ctx=Load()), attr='invoke', \"\n",
      " \"ctx=Load()), args=[Dict(keys=[Constant(value='messages')], \"\n",
      " \"values=[List(elts=[Call(func=Name(id='HumanMessage', ctx=Load()), \"\n",
      " \"args=[Constant(value='How are you?')], keywords=[])], ctx=Load())])], \"\n",
      " \"keywords=[])), Expr(value=Call(func=Name(id='print', ctx=Load()), \"\n",
      " \"args=[Name(id='result', ctx=Load())], keywords=[]))], type_ignores=[])\")\n"
     ]
    }
   ],
   "source": [
    "import ast\n",
    "from pprint import pprint\n",
    "tree = ast.parse(CODE)\n",
    "\n",
    "pprint(ast.dump(tree))\n"
   ]
  },
  {
   "cell_type": "code",
   "execution_count": 14,
   "id": "8b98d8eb",
   "metadata": {},
   "outputs": [
    {
     "data": {
      "text/plain": [
       "str"
      ]
     },
     "execution_count": 14,
     "metadata": {},
     "output_type": "execute_result"
    }
   ],
   "source": [
    "type(ast.dump(tree))"
   ]
  },
  {
   "cell_type": "code",
   "execution_count": null,
   "id": "54243fe7",
   "metadata": {},
   "outputs": [
    {
     "ename": "TypeError",
     "evalue": "expected AST, got 'str'",
     "output_type": "error",
     "traceback": [
      "\u001b[0;31m---------------------------------------------------------------------------\u001b[0m",
      "\u001b[0;31mTypeError\u001b[0m                                 Traceback (most recent call last)",
      "Cell \u001b[0;32mIn[33], line 2\u001b[0m\n\u001b[1;32m      1\u001b[0m node \u001b[38;5;241m=\u001b[39m ast\u001b[38;5;241m.\u001b[39mparse(CODE)\n\u001b[0;32m----> 2\u001b[0m tree \u001b[38;5;241m=\u001b[39m ast\u001b[38;5;241m.\u001b[39mdump(tree)\n\u001b[1;32m      4\u001b[0m tree\u001b[38;5;241m.\u001b[39mImport\n",
      "File \u001b[0;32m~/opt/anaconda3/envs/py312/lib/python3.12/ast.py:176\u001b[0m, in \u001b[0;36mdump\u001b[0;34m(node, annotate_fields, include_attributes, indent)\u001b[0m\n\u001b[1;32m    173\u001b[0m     \u001b[38;5;28;01mreturn\u001b[39;00m \u001b[38;5;28mrepr\u001b[39m(node), \u001b[38;5;28;01mTrue\u001b[39;00m\n\u001b[1;32m    175\u001b[0m \u001b[38;5;28;01mif\u001b[39;00m \u001b[38;5;129;01mnot\u001b[39;00m \u001b[38;5;28misinstance\u001b[39m(node, AST):\n\u001b[0;32m--> 176\u001b[0m     \u001b[38;5;28;01mraise\u001b[39;00m \u001b[38;5;167;01mTypeError\u001b[39;00m(\u001b[38;5;124m'\u001b[39m\u001b[38;5;124mexpected AST, got \u001b[39m\u001b[38;5;132;01m%r\u001b[39;00m\u001b[38;5;124m'\u001b[39m \u001b[38;5;241m%\u001b[39m node\u001b[38;5;241m.\u001b[39m\u001b[38;5;18m__class__\u001b[39m\u001b[38;5;241m.\u001b[39m\u001b[38;5;18m__name__\u001b[39m)\n\u001b[1;32m    177\u001b[0m \u001b[38;5;28;01mif\u001b[39;00m indent \u001b[38;5;129;01mis\u001b[39;00m \u001b[38;5;129;01mnot\u001b[39;00m \u001b[38;5;28;01mNone\u001b[39;00m \u001b[38;5;129;01mand\u001b[39;00m \u001b[38;5;129;01mnot\u001b[39;00m \u001b[38;5;28misinstance\u001b[39m(indent, \u001b[38;5;28mstr\u001b[39m):\n\u001b[1;32m    178\u001b[0m     indent \u001b[38;5;241m=\u001b[39m \u001b[38;5;124m'\u001b[39m\u001b[38;5;124m \u001b[39m\u001b[38;5;124m'\u001b[39m \u001b[38;5;241m*\u001b[39m indent\n",
      "\u001b[0;31mTypeError\u001b[0m: expected AST, got 'str'"
     ]
    }
   ],
   "source": [
    "from ast import Import \n",
    "node = ast.parse(CODE)\n",
    "tree = ast.dump(tree)\n",
    "\n",
    "tree.Import \n",
    "\n",
    "# walk thru the tree \n",
    "# if we encounter alias, add it to imports \n",
    "\n",
    "\n",
    "\n"
   ]
  },
  {
   "cell_type": "code",
   "execution_count": 34,
   "id": "bd760a3d",
   "metadata": {},
   "outputs": [],
   "source": [
    "import sys\n",
    "def _is_stdlib(pkg: str) -> bool:\n",
    "        \"\"\"Detect if a top-level import is from the stdlib (best-effort).\"\"\"\n",
    "        # Python 3.10+: sys.stdlib_module_names\n",
    "        stdmods = getattr(sys, \"stdlib_module_names\", None)\n",
    "        if stdmods is not None:\n",
    "            return pkg in stdmods"
   ]
  },
  {
   "cell_type": "code",
   "execution_count": 39,
   "id": "a0fc2319",
   "metadata": {},
   "outputs": [
    {
     "data": {
      "text/plain": [
       "False"
      ]
     },
     "execution_count": 39,
     "metadata": {},
     "output_type": "execute_result"
    }
   ],
   "source": [
    "_is_stdlib('langgraph')"
   ]
  },
  {
   "cell_type": "code",
   "execution_count": null,
   "id": "df082c1d",
   "metadata": {},
   "outputs": [],
   "source": []
  },
  {
   "cell_type": "code",
   "execution_count": null,
   "id": "d2b9418d",
   "metadata": {},
   "outputs": [
    {
     "name": "stdout",
     "output_type": "stream",
     "text": [
      "[<ast.alias object at 0x1156d2e50>]\n",
      "<ast.alias object at 0x1156d2e50>\n",
      "[<ast.alias object at 0x1156d3390>]\n",
      "<ast.alias object at 0x1156d3390>\n",
      "[<ast.alias object at 0x1156d2890>]\n",
      "<ast.alias object at 0x1156d2890>\n",
      "[<ast.alias object at 0x1156d3750>]\n",
      "<ast.alias object at 0x1156d3750>\n",
      "[<ast.alias object at 0x1156d04d0>]\n",
      "<ast.alias object at 0x1156d04d0>\n",
      "[<ast.alias object at 0x1156d0410>]\n",
      "<ast.alias object at 0x1156d0410>\n",
      "[<ast.alias object at 0x1157c6810>]\n",
      "<ast.alias object at 0x1157c6810>\n",
      "[<ast.alias object at 0x1157c7090>]\n",
      "<ast.alias object at 0x1157c7090>\n",
      "[<ast.alias object at 0x115735990>]\n",
      "<ast.alias object at 0x115735990>\n",
      "[<ast.alias object at 0x115735010>]\n",
      "<ast.alias object at 0x115735010>\n",
      "[<ast.alias object at 0x115735750>]\n",
      "<ast.alias object at 0x115735750>\n",
      "[<ast.alias object at 0x115735810>]\n",
      "<ast.alias object at 0x115735810>\n",
      "[<ast.alias object at 0x115737890>]\n",
      "<ast.alias object at 0x115737890>\n",
      "[<ast.alias object at 0x115735e10>]\n",
      "<ast.alias object at 0x115735e10>\n",
      "[<ast.alias object at 0x115729c10>]\n",
      "<ast.alias object at 0x115729c10>\n",
      "[<ast.alias object at 0x1157282d0>]\n",
      "<ast.alias object at 0x1157282d0>\n",
      "[<ast.alias object at 0x11572b550>]\n",
      "<ast.alias object at 0x11572b550>\n",
      "[<ast.alias object at 0x115728910>]\n",
      "<ast.alias object at 0x115728910>\n",
      "[<ast.alias object at 0x11572b8d0>]\n",
      "<ast.alias object at 0x11572b8d0>\n",
      "[<ast.alias object at 0x11572b090>]\n",
      "<ast.alias object at 0x11572b090>\n",
      "[<ast.alias object at 0x115729bd0>]\n",
      "<ast.alias object at 0x115729bd0>\n",
      "[<ast.alias object at 0x115729610>]\n",
      "<ast.alias object at 0x115729610>\n",
      "[<ast.alias object at 0x11572be10>]\n",
      "<ast.alias object at 0x11572be10>\n",
      "[<ast.alias object at 0x115729790>]\n",
      "<ast.alias object at 0x115729790>\n",
      "[<ast.alias object at 0x1157296d0>]\n",
      "<ast.alias object at 0x1157296d0>\n",
      "[<ast.alias object at 0x115831290>]\n",
      "<ast.alias object at 0x115831290>\n",
      "[<ast.alias object at 0x115833910>]\n",
      "<ast.alias object at 0x115833910>\n",
      "[<ast.alias object at 0x115830450>]\n",
      "<ast.alias object at 0x115830450>\n",
      "[<ast.alias object at 0x115833010>]\n",
      "<ast.alias object at 0x115833010>\n",
      "[<ast.alias object at 0x115832210>]\n",
      "<ast.alias object at 0x115832210>\n",
      "[<ast.alias object at 0x1158333d0>]\n",
      "<ast.alias object at 0x1158333d0>\n",
      "[<ast.alias object at 0x115830290>]\n",
      "<ast.alias object at 0x115830290>\n",
      "[<ast.alias object at 0x1158316d0>]\n",
      "<ast.alias object at 0x1158316d0>\n",
      "[<ast.alias object at 0x115832390>]\n",
      "<ast.alias object at 0x115832390>\n",
      "[<ast.alias object at 0x115833950>]\n",
      "<ast.alias object at 0x115833950>\n",
      "[<ast.alias object at 0x115830c10>]\n",
      "<ast.alias object at 0x115830c10>\n",
      "[<ast.alias object at 0x115830dd0>]\n",
      "<ast.alias object at 0x115830dd0>\n",
      "[<ast.alias object at 0x115833d10>]\n",
      "<ast.alias object at 0x115833d10>\n",
      "[<ast.alias object at 0x1158307d0>]\n",
      "<ast.alias object at 0x1158307d0>\n",
      "[<ast.alias object at 0x1158308d0>]\n",
      "<ast.alias object at 0x1158308d0>\n",
      "[<ast.alias object at 0x115830090>]\n",
      "<ast.alias object at 0x115830090>\n",
      "[<ast.alias object at 0x115832ad0>]\n",
      "<ast.alias object at 0x115832ad0>\n",
      "[<ast.alias object at 0x115832250>]\n",
      "<ast.alias object at 0x115832250>\n",
      "[<ast.alias object at 0x115830fd0>]\n",
      "<ast.alias object at 0x115830fd0>\n",
      "[<ast.alias object at 0x115831550>]\n",
      "<ast.alias object at 0x115831550>\n",
      "bs4\n",
      "[<ast.alias object at 0x115832d10>]\n",
      "<ast.alias object at 0x115832d10>\n",
      "[<ast.alias object at 0x115830e90>]\n",
      "<ast.alias object at 0x115830e90>\n",
      "[<ast.alias object at 0x115832910>]\n",
      "<ast.alias object at 0x115832910>\n",
      "PIL\n",
      "[<ast.alias object at 0x11582bc10>]\n",
      "<ast.alias object at 0x11582bc10>\n",
      "flask\n",
      "[<ast.alias object at 0x115829c90>]\n",
      "<ast.alias object at 0x115829c90>\n",
      "fastapi\n",
      "[<ast.alias object at 0x11582afd0>]\n",
      "<ast.alias object at 0x11582afd0>\n",
      "[<ast.alias object at 0x11582bd10>]\n",
      "<ast.alias object at 0x11582bd10>\n",
      "[<ast.alias object at 0x115828f50>]\n",
      "<ast.alias object at 0x115828f50>\n",
      "[<ast.alias object at 0x115828a90>]\n",
      "<ast.alias object at 0x115828a90>\n",
      "[<ast.alias object at 0x115828a10>]\n",
      "<ast.alias object at 0x115828a10>\n",
      "{'dateutil', 'functools', 'statistics', 'threading', 'sqlalchemy', 'sklearn', 'tempfile', 'zipfile', 'signal', 'pytz', 'tarfile', 'yaml', 'PIL', 're', 'tensorflow', 'ctypes', 'matplotlib', 'fastapi', 'inspect', 'datetime', 'typing', 'itertools', 'socket', 'numpy', 'random', 'requests', 'urllib', 'string', 'hashlib', 'shutil', 'os', 'concurrent', 'pprint', 'torch', 'bs4', 'math', 'asyncio', 'sqlite3', 'pandas', 'sys', 'flask', 'uuid', 'seaborn', 'platform', 'mimetypes', 'csv', 'pathlib', 'json', 'time', 'collections', 'subprocess', 'base64', 'logging', 'plotly', 'http'}\n"
     ]
    }
   ],
   "source": [
    "from typing import Dict, List, Any, Set\n",
    "import ast \n",
    "import sys \n",
    "\n",
    "def _collect_imports_ast(code: str) -> Set[str]: \n",
    "  try: \n",
    "    tree = ast.parse(code)\n",
    "  except SyntaxError: \n",
    "    return set()\n",
    "  \n",
    "  packages: Set[str] = set()\n",
    "\n",
    "  class ImportVisitor(ast.NodeVisitor): \n",
    "    def visit_Import(self, node: ast.Import): \n",
    "      for alias in node.names: \n",
    "        packages.add(alias.name.split('.')[0])\n",
    "      self.generic_visit(node)\n",
    "\n",
    "\n",
    "    def visit_ImportFrom(self, node: ast.ImportFrom): \n",
    "      print(node.module)\n",
    "      if node.module: \n",
    "        packages.add(node.module.split('.')[0]) \n",
    "      self.generic_visit(node)\n",
    "\n",
    "  ImportVisitor().visit(tree)\n",
    "  return packages\n",
    "\n",
    "code = \"\"\" \n",
    "import os\n",
    "import sys\n",
    "import math\n",
    "import json\n",
    "import time\n",
    "import random\n",
    "import string\n",
    "import re\n",
    "import uuid\n",
    "import base64\n",
    "import hashlib\n",
    "import logging\n",
    "import threading\n",
    "import asyncio\n",
    "import concurrent.futures\n",
    "import statistics\n",
    "import functools\n",
    "import itertools\n",
    "import tempfile\n",
    "import shutil\n",
    "import pathlib\n",
    "import datetime\n",
    "import collections\n",
    "import inspect\n",
    "import socket\n",
    "import http.client\n",
    "import urllib.request\n",
    "import urllib.parse\n",
    "import zipfile\n",
    "import tarfile\n",
    "import mimetypes\n",
    "import csv\n",
    "import sqlite3\n",
    "import subprocess\n",
    "import platform\n",
    "import ctypes\n",
    "import signal\n",
    "import typing\n",
    "import pprint\n",
    "\n",
    "# Third-party imports (these would require pip install)\n",
    "try:\n",
    "    import requests\n",
    "    import numpy as np\n",
    "    import pandas as pd\n",
    "    import matplotlib.pyplot as plt\n",
    "    import seaborn as sns\n",
    "    import bs4\n",
    "    from bs4 import BeautifulSoup\n",
    "    import yaml\n",
    "    import pytz\n",
    "    import dateutil\n",
    "    from PIL import Image\n",
    "    import flask\n",
    "    from flask import Flask, jsonify\n",
    "    import fastapi\n",
    "    from fastapi import FastAPI\n",
    "    import sqlalchemy\n",
    "    import sklearn\n",
    "    import tensorflow as tf\n",
    "    import torch\n",
    "    import plotly.express as px\n",
    "except ImportError:\n",
    "    print(\"Some third-party packages are not installed. Install them with pip if needed.\")\n",
    "\n",
    "# Random functional chaos\n",
    "def random_string(length=8):\n",
    "    return ''.join(random.choice(string.ascii_letters + string.digits) for _ in range(length))\n",
    "\n",
    "def compute_hash(data: str):\n",
    "    return hashlib.sha256(data.encode()).hexdigest()\n",
    "\n",
    "def async_print_numbers():\n",
    "    async def inner():\n",
    "        for i in range(5):\n",
    "            await asyncio.sleep(0.5)\n",
    "            print(f\"Number: {i}\")\n",
    "    return asyncio.run(inner())\n",
    "\n",
    "def random_dataframe():\n",
    "    df = pd.DataFrame({\n",
    "        'id': [uuid.uuid4() for _ in range(5)],\n",
    "        'value': np.random.rand(5),\n",
    "        'timestamp': pd.date_range(start=\"2025-01-01\", periods=5, freq=\"D\")\n",
    "    })\n",
    "    print(df)\n",
    "    return df\n",
    "\n",
    "def scrape_example():\n",
    "    url = \"https://example.com\"\n",
    "    r = requests.get(url)\n",
    "    soup = BeautifulSoup(r.text, 'html.parser')\n",
    "    print(\"Title:\", soup.title.string if soup.title else \"No title\")\n",
    "\"\"\"\n",
    "\n",
    "imports = _collect_imports_ast(code)\n",
    "print(imports)"
   ]
  },
  {
   "cell_type": "code",
   "execution_count": 72,
   "id": "f991565f",
   "metadata": {},
   "outputs": [],
   "source": [
    "imports = ast.dump(ast.parse(\"\"\"\n",
    "import x as ex,z as zee\n",
    "import y as yolo\n",
    "from a import b\n",
    "from a.m import c as cee, d, f\n",
    "\"\"\"))"
   ]
  },
  {
   "cell_type": "code",
   "execution_count": 73,
   "id": "c3e4abc4",
   "metadata": {},
   "outputs": [
    {
     "name": "stdout",
     "output_type": "stream",
     "text": [
      "(\"Module(body=[Import(names=[alias(name='x', asname='ex'), alias(name='z', \"\n",
      " \"asname='zee')]), Import(names=[alias(name='y', asname='yolo')]), \"\n",
      " \"ImportFrom(module='a', names=[alias(name='b')], level=0), \"\n",
      " \"ImportFrom(module='a.m', names=[alias(name='c', asname='cee'), \"\n",
      " \"alias(name='d'), alias(name='f')], level=0)], type_ignores=[])\")\n"
     ]
    }
   ],
   "source": [
    "import pprint\n",
    "pprint.pprint(imports) "
   ]
  },
  {
   "cell_type": "code",
   "execution_count": 76,
   "id": "69393df1",
   "metadata": {},
   "outputs": [],
   "source": [
    "\n",
    "def _is_stdlib(pkg: str) -> bool:\n",
    "  \"\"\"Detect if a top-level import is from the stdlib (best-effort).\"\"\"\n",
    "  stdmods = getattr(sys, \"stdlib_module_names\", None)\n",
    "  if stdmods is not None:\n",
    "      return pkg in stdmods\n",
    "  \n"
   ]
  },
  {
   "cell_type": "code",
   "execution_count": 78,
   "id": "7e81bd56",
   "metadata": {},
   "outputs": [
    {
     "data": {
      "text/plain": [
       "False"
      ]
     },
     "execution_count": 78,
     "metadata": {},
     "output_type": "execute_result"
    }
   ],
   "source": [
    "_is_stdlib('pandas')"
   ]
  },
  {
   "cell_type": "code",
   "execution_count": null,
   "id": "f508af93",
   "metadata": {},
   "outputs": [],
   "source": [
    "from openevals.code.pyright import create_pyright_evaluator\n",
    "def _validate_syntax(code: str) -> Dict[str, Any]: \n",
    "  evaluator = create_pyright_evaluator()\n",
    "  result = evaluator(outputs=code)\n",
    "  return result"
   ]
  },
  {
   "cell_type": "code",
   "execution_count": 89,
   "id": "5daa99ce",
   "metadata": {},
   "outputs": [
    {
     "name": "stdout",
     "output_type": "stream",
     "text": [
      "{'key': 'pyright_succeeded', 'score': False, 'comment': '[{\"severity\": \"error\", \"message\": \"Cannot access attribute \\\\\"compilee\\\\\" for class \\\\\"StateGraph[State, State, State]\\\\\"\\\\n\\\\u00a0\\\\u00a0Attribute \\\\\"compilee\\\\\" is unknown\", \"range\": {\"start\": {\"line\": 28, \"character\": 16}, \"end\": {\"line\": 28, \"character\": 24}}, \"rule\": \"reportAttributeAccessIssue\"}]', 'metadata': None}\n"
     ]
    }
   ],
   "source": [
    "results = _validate_syntax(CODE)\n",
    "print(results)"
   ]
  },
  {
   "cell_type": "code",
   "execution_count": 93,
   "id": "1c531782",
   "metadata": {},
   "outputs": [
    {
     "data": {
      "text/plain": [
       "'[{\"severity\": \"error\", \"message\": \"Cannot access attribute \\\\\"compilee\\\\\" for class \\\\\"StateGraph[State, State, State]\\\\\"\\\\n\\\\u00a0\\\\u00a0Attribute \\\\\"compilee\\\\\" is unknown\", \"range\": {\"start\": {\"line\": 28, \"character\": 16}, \"end\": {\"line\": 28, \"character\": 24}}, \"rule\": \"reportAttributeAccessIssue\"}]'"
      ]
     },
     "execution_count": 93,
     "metadata": {},
     "output_type": "execute_result"
    }
   ],
   "source": [
    "results.get('comment')"
   ]
  },
  {
   "cell_type": "code",
   "execution_count": 133,
   "id": "47336f5f",
   "metadata": {},
   "outputs": [
    {
     "data": {
      "text/plain": [
       "[{'severity': 'error',\n",
       "  'message': 'Cannot access attribute \"compilee\" for class \"StateGraph[State, State, State]\"\\n\\xa0\\xa0Attribute \"compilee\" is unknown',\n",
       "  'range': {'start': {'line': 28, 'character': 16},\n",
       "   'end': {'line': 28, 'character': 24}},\n",
       "  'rule': 'reportAttributeAccessIssue'}]"
      ]
     },
     "execution_count": 133,
     "metadata": {},
     "output_type": "execute_result"
    }
   ],
   "source": [
    "ast.literal_eval(results.get('comment'))"
   ]
  },
  {
   "cell_type": "code",
   "execution_count": 142,
   "id": "b6a88c44",
   "metadata": {},
   "outputs": [],
   "source": [
    "code_new = \"\"\" \n",
    "a = 10\n",
    "b = 23\n",
    "print(a+b/0)\n",
    "\"\"\""
   ]
  },
  {
   "cell_type": "code",
   "execution_count": 169,
   "id": "6c20d16e",
   "metadata": {},
   "outputs": [],
   "source": [
    "code_new2 = \"\"\" \n",
    "a = 10\n",
    "b = 23\n",
    "printt(a+b)\n",
    "\"\"\""
   ]
  },
  {
   "cell_type": "code",
   "execution_count": 139,
   "id": "316300c9",
   "metadata": {},
   "outputs": [
    {
     "data": {
      "text/plain": [
       "{'key': 'execution_succeeded',\n",
       " 'score': True,\n",
       " 'comment': None,\n",
       " 'metadata': None}"
      ]
     },
     "execution_count": 139,
     "metadata": {},
     "output_type": "execute_result"
    }
   ],
   "source": [
    "results_new"
   ]
  },
  {
   "cell_type": "code",
   "execution_count": 143,
   "id": "f8e1359f",
   "metadata": {},
   "outputs": [],
   "source": [
    "def _run_in_sandbox(code: str) -> Dict[str, Any]: \n",
    "    try: \n",
    "      with Sandbox('OpenEvalsPython') as sandbox: \n",
    "        evaluator = create_e2b_execution_evaluator(\n",
    "          sandbox=sandbox\n",
    "        )\n",
    "        eval_result = evaluator(outputs=code)\n",
    "        return {\n",
    "          'success': eval_result['score'], \n",
    "          'errors': None if not eval_result['comment'] else eval_result['comment']\n",
    "          }\n",
    "    except Exception as e: \n",
    "      print('Exception block executed')\n",
    "      return {\n",
    "        'success': False, \n",
    "        'errors': str(e),\n",
    "      } \n",
    "    \n",
    "exe_results = _run_in_sandbox(code_new)"
   ]
  },
  {
   "cell_type": "code",
   "execution_count": 149,
   "id": "1e08c49f",
   "metadata": {},
   "outputs": [
    {
     "data": {
      "text/plain": [
       "{'success': False,\n",
       " 'errors': 'Command exited with code 1 and error:\\nTraceback (most recent call last):\\n  File \"/home/user/openevals/outputs.py\", line 4, in <module>\\n    print(a+b/0)\\nZeroDivisionError: division by zero\\n'}"
      ]
     },
     "execution_count": 149,
     "metadata": {},
     "output_type": "execute_result"
    }
   ],
   "source": [
    "exe_results"
   ]
  },
  {
   "cell_type": "code",
   "execution_count": 151,
   "id": "6dcf42f0",
   "metadata": {},
   "outputs": [],
   "source": [
    "result2 = _run_in_sandbox(code_new2)"
   ]
  },
  {
   "cell_type": "code",
   "execution_count": 156,
   "id": "4f526fb6",
   "metadata": {},
   "outputs": [],
   "source": [
    "a = result2.get('errors')"
   ]
  },
  {
   "cell_type": "code",
   "execution_count": 160,
   "id": "a9753b8d",
   "metadata": {},
   "outputs": [
    {
     "data": {
      "text/plain": [
       "bool"
      ]
     },
     "execution_count": 160,
     "metadata": {},
     "output_type": "execute_result"
    }
   ],
   "source": [
    "type(result2.get('success'))"
   ]
  },
  {
   "cell_type": "code",
   "execution_count": 174,
   "id": "c26d70a6",
   "metadata": {},
   "outputs": [],
   "source": [
    "def _validate_syntax(code: str) -> Dict[str, Any]: \n",
    "  evaluator = create_pyright_evaluator()\n",
    "  result = evaluator(outputs=code)\n",
    "  return result  \n"
   ]
  },
  {
   "cell_type": "code",
   "execution_count": 187,
   "id": "b32c4311",
   "metadata": {},
   "outputs": [],
   "source": [
    "syntax_check = _validate_syntax(code_new)"
   ]
  },
  {
   "cell_type": "code",
   "execution_count": 188,
   "id": "636b9fc8",
   "metadata": {},
   "outputs": [
    {
     "data": {
      "text/plain": [
       "{'key': 'pyright_succeeded', 'score': True, 'comment': '[]', 'metadata': None}"
      ]
     },
     "execution_count": 188,
     "metadata": {},
     "output_type": "execute_result"
    }
   ],
   "source": [
    "syntax_check"
   ]
  },
  {
   "cell_type": "code",
   "execution_count": null,
   "id": "8b0e1865",
   "metadata": {},
   "outputs": [],
   "source": [
    "comment = syntax_check.get('comment')\n",
    "comment = ast.literal_eval(comment)"
   ]
  },
  {
   "cell_type": "code",
   "execution_count": null,
   "id": "f88fb0f6",
   "metadata": {},
   "outputs": [
    {
     "data": {
      "text/plain": [
       "{'severity': 'error',\n",
       " 'message': '\"printt\" is not defined',\n",
       " 'range': {'start': {'line': 3, 'character': 0},\n",
       "  'end': {'line': 3, 'character': 6}},\n",
       " 'rule': 'reportUndefinedVariable'}"
      ]
     },
     "execution_count": 185,
     "metadata": {},
     "output_type": "execute_result"
    }
   ],
   "source": [
    "comment[0]"
   ]
  },
  {
   "cell_type": "code",
   "execution_count": null,
   "id": "0b68a1c5",
   "metadata": {},
   "outputs": [],
   "source": []
  }
 ],
 "metadata": {
  "kernelspec": {
   "display_name": "py312",
   "language": "python",
   "name": "python3"
  },
  "language_info": {
   "codemirror_mode": {
    "name": "ipython",
    "version": 3
   },
   "file_extension": ".py",
   "mimetype": "text/x-python",
   "name": "python",
   "nbconvert_exporter": "python",
   "pygments_lexer": "ipython3",
   "version": "3.12.8"
  }
 },
 "nbformat": 4,
 "nbformat_minor": 5
}
